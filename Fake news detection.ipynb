{
 "cells": [
  {
   "cell_type": "code",
   "execution_count": 3,
   "metadata": {},
   "outputs": [
    {
     "name": "stdout",
     "output_type": "stream",
     "text": [
      "Quantidade de notícias verdadeiras: %d 3600\n",
      "Quantidade de notícias falsas: %d 3600\n"
     ]
    }
   ],
   "source": [
    "import numpy as np #importa a biblioteca usada para trabalhar com vetores de matrizes\n",
    "from sklearn.feature_extraction.text import CountVectorizer\n",
    "import glob\n",
    "\n",
    "corpus = []\n",
    "\n",
    "for file in glob.glob(\"Fake.br-Corpus/full_texts/true/*.txt\"):\n",
    "    news = open(file, \"r\", encoding = \"unicode_escape\")\n",
    "    sentence = news.read().replace('\\n',' ')\n",
    "    corpus.append(sentence)\n",
    "    news.close()\n",
    "    \n",
    "quant_true_news = len(corpus)\n",
    "    \n",
    "for file in glob.glob(\"Fake.br-Corpus/full_texts/fake/*.txt\"):\n",
    "    news = open(file, \"r\", encoding = \"unicode_escape\")\n",
    "    sentence = news.read().replace('\\n',' ')\n",
    "    corpus.append(sentence)\n",
    "    news.close()\n",
    "    \n",
    "quant_fake_news = len(corpus) - quant_true_news\n",
    "\n",
    "print('Quantidade de notícias verdadeiras:', quant_true_news)\n",
    "print('Quantidade de notícias falsas:', quant_fake_news)"
   ]
  },
  {
   "cell_type": "code",
   "execution_count": 7,
   "metadata": {},
   "outputs": [
    {
     "name": "stdout",
     "output_type": "stream",
     "text": [
      "Montando o BOW...\n",
      "Quantidade de features: 44685\n",
      "10 primeiros valores de Y: [1 1 1 1 1 1 1 1 1 1]\n",
      "10 ultimos valores de Y: [0 0 0 0 0 0 0 0 0 0]\n"
     ]
    }
   ],
   "source": [
    "%run normalization_utils.py\n",
    "cv = CountVectorizer(preprocessor=sentence_preprocessor, tokenizer=sentence_tokenizer)\n",
    "\n",
    "print('Montando o BOW...')\n",
    "X = cv.fit_transform(corpus).toarray()\n",
    "feature_names = cv.get_feature_names()\n",
    "Y = np.concatenate((np.ones(quant_true_news, dtype=int), np.zeros(quant_fake_news, dtype=int)), axis=None)\n",
    "\n",
    "print('Quantidade de features:', len(feature_names))\n",
    "print('10 primeiros valores de Y:', Y[0:10])\n",
    "print('10 ultimos valores de Y:', Y[-10:])"
   ]
  }
 ],
 "metadata": {
  "kernelspec": {
   "display_name": "Python 3",
   "language": "python",
   "name": "python3"
  },
  "language_info": {
   "codemirror_mode": {
    "name": "ipython",
    "version": 3
   },
   "file_extension": ".py",
   "mimetype": "text/x-python",
   "name": "python",
   "nbconvert_exporter": "python",
   "pygments_lexer": "ipython3",
   "version": "3.6.6"
  }
 },
 "nbformat": 4,
 "nbformat_minor": 2
}
