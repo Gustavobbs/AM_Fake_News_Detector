{
 "cells": [
  {
   "cell_type": "code",
   "execution_count": 2,
   "metadata": {},
   "outputs": [
    {
     "name": "stdout",
     "output_type": "stream",
     "text": [
      "Pegando notícias verdadeiras...\n",
      "Pegando notícias falsas...\n",
      "Quantidade de notícias verdadeiras: 3600\n",
      "Quantidade de notícias falsas: 3600\n",
      "Montando o BOW...\n",
      "Quantidade de features: 44685\n",
      "10 primeiros valores de Y: [0 0 0 0 0 0 0 0 0 0]\n",
      "10 ultimos valores de Y: [1 1 1 1 1 1 1 1 1 1]\n"
     ]
    }
   ],
   "source": [
    "import numpy as np #importa a biblioteca usada para trabalhar com vetores de matrizes\n",
    "%run normalization_utils.py\n",
    "\n",
    "X, Y, feature_names = build_bow()"
   ]
  },
  {
   "cell_type": "code",
   "execution_count": 10,
   "metadata": {},
   "outputs": [
    {
     "name": "stdout",
     "output_type": "stream",
     "text": [
      "[2 1 2 2 1 1 1]\n",
      "44685\n"
     ]
    }
   ],
   "source": [
    "# Testando metodo para converter uma string numa amostra para predição\n",
    "sentence = 'Tinha uma pedra no meio do caminho, no meio do caminho tinha uma pedra. Qual é o sentido da vida se a nossa existência é tão efemera.'\n",
    "\n",
    "a = sentence_to_features(sentence, feature_names)\n",
    "\n",
    "print(a[a!=0])\n",
    "print(len(a))"
   ]
  },
  {
   "cell_type": "code",
   "execution_count": 3,
   "metadata": {},
   "outputs": [
    {
     "name": "stdout",
     "output_type": "stream",
     "text": [
      "Calculando folds...\n",
      "Folds calculados\n"
     ]
    }
   ],
   "source": [
    "print('Calculando folds...')\n",
    "folds = stratified_kfolds(Y, 5)\n",
    "print('Folds calculados')"
   ]
  },
  {
   "cell_type": "code",
   "execution_count": 4,
   "metadata": {},
   "outputs": [],
   "source": [
    "Xtrain = X[folds[0][0]]\n",
    "Ytrain = Y[folds[0][0]]\n",
    "\n",
    "Xtest = X[folds[0][1]]\n",
    "Ytest = Y[folds[0][1]]"
   ]
  },
  {
   "cell_type": "code",
   "execution_count": 17,
   "metadata": {},
   "outputs": [
    {
     "name": "stdout",
     "output_type": "stream",
     "text": [
      "K:  1  acc:  0.7694444444444445\n",
      "K:  3  acc:  0.7319444444444444\n",
      "K:  5  acc:  0.7138888888888889\n",
      "K:  7  acc:  0.7048611111111112\n",
      "K:  9  acc:  0.7\n"
     ]
    }
   ],
   "source": [
    "%run Methods/Kneighbors.py\n",
    "%run accuracy.py\n",
    "\n",
    "bestAccuracy = 0\n",
    "\n",
    "for i in range(1, , 2):\n",
    "    Ypred = testSamples(Xtrain, Ytrain, Xtest, i)\n",
    "    acc = accuracy(Ypred, Ytest)\n",
    "    print('K: ', i, ' acc: ', acc)\n",
    "    if bestAccuracy < acc:\n",
    "        bestAccuracy = acc\n",
    "        k = i\n",
    "print('Best -> K: ', k, ' acc: ', bestAccuracy)"
   ]
  },
  {
   "cell_type": "code",
   "execution_count": null,
   "metadata": {},
   "outputs": [],
   "source": [
    "%run Methods/logisticRegression.py\n",
    "%run accuracy.py\n",
    "\n",
    "lambda_reg = 100\n",
    "\n",
    "theta, Ypred = regression(Xtrain, Ytrain, Xtest, lambda_reg)\n",
    "display(accuracy(Ypred, Ytest))"
   ]
  },
  {
   "cell_type": "code",
   "execution_count": 69,
   "metadata": {},
   "outputs": [
    {
     "data": {
      "text/plain": [
       "array([5.88668138e-04, 2.10238621e-05, 2.10238621e-05, ...,\n",
       "       1.47167035e-04, 4.20477242e-05, 6.30715863e-05])"
      ]
     },
     "metadata": {},
     "output_type": "display_data"
    },
    {
     "data": {
      "text/plain": [
       "array([4.20477242e-05, 2.10238621e-05, 2.10238621e-05, ...,\n",
       "       2.10238621e-05, 2.10238621e-05, 2.10238621e-05])"
      ]
     },
     "metadata": {},
     "output_type": "display_data"
    },
    {
     "data": {
      "text/plain": [
       "0.5"
      ]
     },
     "metadata": {},
     "output_type": "display_data"
    },
    {
     "data": {
      "text/plain": [
       "0.5"
      ]
     },
     "metadata": {},
     "output_type": "display_data"
    },
    {
     "data": {
      "text/plain": [
       "0.5055555555555555"
      ]
     },
     "metadata": {},
     "output_type": "display_data"
    }
   ],
   "source": [
    "%run Methods/naiveBayes.py\n",
    "%run accuracy.py\n",
    "\n",
    "Ypred = naiveBayes(Xtrain, Ytrain, Xtest)\n",
    "display(accuracy(Ypred, Ytest))"
   ]
  },
  {
   "cell_type": "code",
   "execution_count": null,
   "metadata": {},
   "outputs": [],
   "source": [
    "%run Methods/svmMethod.py\n",
    "%run accuracy.py\n",
    "\n",
    "kernel = 0\n",
    "cost = 4\n",
    "gamma = 1\n",
    "\n",
    "model, Ypred = svmUse(Xtrain, Ytrain, Xtest, Ytest, kernel, cost, gamma)\n",
    "acc = accuracy(Ypred, Ytest)\n",
    "print('cost:', cost, ' kernel:', kernel, ' gamma:', gamma, 'accuracy:', acc)"
   ]
  },
  {
   "cell_type": "code",
   "execution_count": null,
   "metadata": {},
   "outputs": [],
   "source": []
  }
 ],
 "metadata": {
  "kernelspec": {
   "display_name": "Python 3",
   "language": "python",
   "name": "python3"
  },
  "language_info": {
   "codemirror_mode": {
    "name": "ipython",
    "version": 3
   },
   "file_extension": ".py",
   "mimetype": "text/x-python",
   "name": "python",
   "nbconvert_exporter": "python",
   "pygments_lexer": "ipython3",
   "version": "3.6.6"
  }
 },
 "nbformat": 4,
 "nbformat_minor": 2
}
