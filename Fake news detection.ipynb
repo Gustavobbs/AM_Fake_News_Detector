{
 "cells": [
  {
   "cell_type": "code",
   "execution_count": 9,
   "metadata": {},
   "outputs": [
    {
     "name": "stdout",
     "output_type": "stream",
     "text": [
      "Pegando notícias verdadeiras...\n",
      "Pegando notícias falsas...\n",
      "Quantidade de notícias verdadeiras: 3600\n",
      "Quantidade de notícias falsas: 3600\n",
      "Montando o BOW...\n",
      "Quantidade de features: 44685\n",
      "10 primeiros valores de Y: [0 0 0 0 0 0 0 0 0 0]\n",
      "10 ultimos valores de Y: [1 1 1 1 1 1 1 1 1 1]\n"
     ]
    }
   ],
   "source": [
    "import numpy as np #importa a biblioteca usada para trabalhar com vetores de matrizes\n",
    "%run normalization_utils.py\n",
    "\n",
    "X, Y, feature_names = build_bow()"
   ]
  },
  {
   "cell_type": "code",
   "execution_count": 10,
   "metadata": {},
   "outputs": [
    {
     "name": "stdout",
     "output_type": "stream",
     "text": [
      "[2 1 2 2 1 1 1]\n",
      "44685\n"
     ]
    }
   ],
   "source": [
    "# Testando metodo para converter uma string numa amostra para predição\n",
    "sentence = 'Tinha uma pedra no meio do caminho, no meio do caminho tinha uma pedra. Qual é o sentido da vida se a nossa existência é tão efemera.'\n",
    "\n",
    "a = sentence_to_features(sentence, feature_names)\n",
    "\n",
    "print(a[a!=0])\n",
    "print(len(a))"
   ]
  },
  {
   "cell_type": "code",
   "execution_count": 16,
   "metadata": {},
   "outputs": [
    {
     "name": "stdout",
     "output_type": "stream",
     "text": [
      "Calculando folds...\n",
      "Folds calculados\n"
     ]
    }
   ],
   "source": [
    "print('Calculando folds...')\n",
    "folds = stratified_kfolds(Y, 5)\n",
    "print('Folds calculados')"
   ]
  }
 ],
 "metadata": {
  "kernelspec": {
   "display_name": "Python 3",
   "language": "python",
   "name": "python3"
  },
  "language_info": {
   "codemirror_mode": {
    "name": "ipython",
    "version": 3
   },
   "file_extension": ".py",
   "mimetype": "text/x-python",
   "name": "python",
   "nbconvert_exporter": "python",
   "pygments_lexer": "ipython3",
   "version": "3.6.6"
  }
 },
 "nbformat": 4,
 "nbformat_minor": 2
}
