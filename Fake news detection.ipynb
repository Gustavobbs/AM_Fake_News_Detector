{
 "cells": [
  {
   "cell_type": "code",
   "execution_count": null,
   "metadata": {},
   "outputs": [],
   "source": [
    "import numpy as np #importa a biblioteca usada para trabalhar com vetores de matrizes\n",
    "%run normalization_utils.py\n",
    "\n",
    "X, Y, feature_names = build_bow()"
   ]
  },
  {
   "cell_type": "code",
   "execution_count": null,
   "metadata": {},
   "outputs": [],
   "source": [
    "# Testando metodo para converter uma string numa amostra para predição\n",
    "sentence = 'Tinha uma pedra no meio do caminho, no meio do caminho tinha uma pedra. Qual é o sentido da vida se a nossa existência é tão efemera.'\n",
    "\n",
    "a = sentence_to_features(sentence, feature_names)\n",
    "\n",
    "print(a[a!=0])\n",
    "print(len(a))"
   ]
  },
  {
   "cell_type": "code",
   "execution_count": null,
   "metadata": {},
   "outputs": [],
   "source": [
    "print('Calculando folds...')\n",
    "folds = stratified_kfolds(Y, 5)\n",
    "print('Folds calculados')"
   ]
  },
  {
   "cell_type": "code",
   "execution_count": null,
   "metadata": {},
   "outputs": [],
   "source": [
    "Xtrain = X[folds[0][0]]\n",
    "Ytrain = Y[folds[0][0]]\n",
    "\n",
    "Xtest = X[folds[0][1]]\n",
    "Ytest = Y[folds[0][1]]"
   ]
  },
  {
   "cell_type": "code",
   "execution_count": null,
   "metadata": {},
   "outputs": [],
   "source": [
    "%run Methods/Kneighbors.py\n",
    "%run normalization_utils.py\n",
    "%run saveAcc.py\n",
    "\n",
    "bestAccuracy = 0\n",
    "bestK = -1\n",
    "\n",
    "for k in range(1, 101, 2):\n",
    "    acc = 0\n",
    "    for i in range(5):\n",
    "        Ypred = testSamples(X[folds[i][0]], Y[folds[i][0]], X[folds[i][1]], k)\n",
    "        result = get_performance(Y[folds[i][1]], Ypred)\n",
    "        acc = acc + result['acuracia']\n",
    "    saveAcuracia(k, acc/5, 'Knn')\n",
    "    if bestAccuracy < acc:\n",
    "        bestAccuracy = acc\n",
    "        bestK = k\n",
    "print('Best -> K: ', k, ' acc: ', bestAccuracy)"
   ]
  },
  {
   "cell_type": "code",
   "execution_count": null,
   "metadata": {},
   "outputs": [],
   "source": [
    "%run Methods/logisticRegression.py\n",
    "%run normalization_utils.py\n",
    "%run saveAcc.py\n",
    "\n",
    "bestAcuracia = 0\n",
    "bestLambda = -1\n",
    "\n",
    "for i in range(0, 1001, 50):\n",
    "    acc = 0\n",
    "    for j in range(5):\n",
    "        theta, Ypred = regression(X[folds[j][0]], Y[folds[j][0]], X[folds[j][1]], i)\n",
    "        result = get_performance(Y[folds[j][1]], Ypred)\n",
    "        acc = acc + result['acuracia']\n",
    "    saveAcuracia(i, acc/5)\n",
    "    if bestAcuracia < acc/5:\n",
    "        bestAcuracia = acc/5\n",
    "        bestLambda = i\n",
    "\n",
    "for i in range(1000, 10001, 1000):\n",
    "    acc = 0\n",
    "    for j in range(5):\n",
    "        theta, Ypred = regression(X[folds[j][0]], Y[folds[j][0]], X[folds[j][1]], i)\n",
    "        result = get_performance(Y[folds[j][1]], Ypred)\n",
    "        acc = acc + result['acuracia']\n",
    "    saveAcuracia(i, acc/5)\n",
    "    if bestAcuracia < acc/5:\n",
    "        bestAcuracia = acc/5\n",
    "        bestLambda = i\n",
    "\n",
    "for i in range(10000, 100001, 10000):\n",
    "    acc = 0\n",
    "    for j in range(5):\n",
    "        theta, Ypred = regression(X[folds[j][0]], Y[folds[j][0]], X[folds[j][1]], i)\n",
    "        result = get_performance(Y[folds[j][1]], Ypred)\n",
    "        acc = acc + result['acuracia']\n",
    "    saveAcuracia(i, acc/5)\n",
    "    if bestAcuracia < acc/5:\n",
    "        bestAcuracia = acc/5\n",
    "        bestLambda = i\n",
    "        \n",
    "print('Melhor Lambda: ', bestLambda, 'com acuracia:', bestAcuracia)"
   ]
  },
  {
   "cell_type": "code",
   "execution_count": null,
   "metadata": {},
   "outputs": [],
   "source": [
    "%run Methods/naiveBayes.py\n",
    "%run accuracy.py\n",
    "\n",
    "Ypred = naiveBayes(Xtrain, Ytrain, Xtest)\n",
    "display(accuracy(Ypred, Ytest))"
   ]
  },
  {
   "cell_type": "code",
   "execution_count": null,
   "metadata": {},
   "outputs": [],
   "source": [
    "%run Methods/neuralNetworks.py\n",
    "%run accuracy.py\n",
    "\n",
    "vLambda = 1000\n",
    "\n",
    "Ypred, Theta1, Theta2 = neuralNetwork(Xtrain, Ytrain, Xtest, vLambda)\n",
    "display(accuracy(Ypred, Ytest))"
   ]
  },
  {
   "cell_type": "code",
   "execution_count": null,
   "metadata": {},
   "outputs": [],
   "source": [
    "%run Methods/svmMethod.py\n",
    "%run normalization_utils.py\n",
    "\n",
    "kernel = 0\n",
    "cost = 4\n",
    "gamma = 1\n",
    "\n",
    "model, Ypred = svmUse(Xtrain, Ytrain, Xtest, Ytest, kernel, cost, gamma)\n",
    "result = get_performance(Ytest, Ypred)\n",
    "print('cost:', cost, ' kernel:', kernel, ' gamma:', gamma, 'accuracy:', result['acuracia'])"
   ]
  },
  {
   "cell_type": "code",
   "execution_count": null,
   "metadata": {},
   "outputs": [],
   "source": []
  }
 ],
 "metadata": {
  "kernelspec": {
   "display_name": "Python 3",
   "language": "python",
   "name": "python3"
  },
  "language_info": {
   "codemirror_mode": {
    "name": "ipython",
    "version": 3
   },
   "file_extension": ".py",
   "mimetype": "text/x-python",
   "name": "python",
   "nbconvert_exporter": "python",
   "pygments_lexer": "ipython3",
   "version": "3.6.6"
  }
 },
 "nbformat": 4,
 "nbformat_minor": 2
}
