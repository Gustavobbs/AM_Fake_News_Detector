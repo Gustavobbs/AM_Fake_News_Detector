{
 "cells": [
  {
   "cell_type": "code",
   "execution_count": null,
   "metadata": {},
   "outputs": [],
   "source": [
    "import numpy as np #importa a biblioteca usada para trabalhar com vetores de matrizes\n",
    "%run normalization_utils.py\n",
    "\n",
    "X, Y, feature_names = build_bow()"
   ]
  },
  {
   "cell_type": "code",
   "execution_count": null,
   "metadata": {},
   "outputs": [],
   "source": [
    "# Testando metodo para converter uma string numa amostra para predição\n",
    "sentence = 'Tinha uma pedra no meio do caminho, no meio do caminho tinha uma pedra. Qual é o sentido da vida se a nossa existência é tão efemera.'\n",
    "\n",
    "a = sentence_to_features(sentence, feature_names)\n",
    "\n",
    "print(a[a!=0])\n",
    "print(len(a))"
   ]
  },
  {
   "cell_type": "code",
   "execution_count": null,
   "metadata": {},
   "outputs": [],
   "source": [
    "print('Calculando folds...')\n",
    "folds = stratified_kfolds(Y, 5)\n",
    "print('Folds calculados')"
   ]
  },
  {
   "cell_type": "code",
   "execution_count": null,
   "metadata": {},
   "outputs": [],
   "source": [
    "Xtrain = X[folds[0][0]]\n",
    "Ytrain = Y[folds[0][0]]\n",
    "\n",
    "Xtest = X[folds[0][1]]\n",
    "Ytest = Y[folds[0][1]]"
   ]
  },
  {
   "cell_type": "code",
   "execution_count": null,
   "metadata": {},
   "outputs": [],
   "source": [
    "%run Methods/Kneighbors.py\n",
    "%run accuracy.py\n",
    "\n",
    "bestAccuracy = 0\n",
    "\n",
    "for i in range(1, 101, 2):\n",
    "    Ypred = testSamples(Xtrain, Ytrain, Xtest, i)\n",
    "    acc = accuracy(Ypred, Ytest)\n",
    "    print('K: ', i, ' acc: ', acc)\n",
    "    if bestAccuracy < acc:\n",
    "        bestAccuracy = acc\n",
    "        k = i\n",
    "print('Best -> K: ', k, ' acc: ', bestAccuracy)"
   ]
  },
  {
   "cell_type": "code",
   "execution_count": null,
   "metadata": {},
   "outputs": [],
   "source": [
    "%run Methods/logisticRegression.py\n",
    "%run accuracy.py\n",
    "\n",
    "lambda_reg = 100\n",
    "\n",
    "theta, Ypred = regression(Xtrain, Ytrain, Xtest, lambda_reg)\n",
    "display(accuracy(Ypred, Ytest))"
   ]
  },
  {
   "cell_type": "code",
   "execution_count": null,
   "metadata": {},
   "outputs": [],
   "source": [
    "%run Methods/naiveBayes.py\n",
    "%run accuracy.py\n",
    "\n",
    "Ypred = naiveBayes(Xtrain, Ytrain, Xtest)\n",
    "display(accuracy(Ypred, Ytest))"
   ]
  },
  {
   "cell_type": "code",
   "execution_count": null,
   "metadata": {},
   "outputs": [],
   "source": [
    "%run Methods/neuralNetworks.py\n",
    "%run accuracy.py\n",
    "\n",
    "vLambda = 10\n",
    "\n",
    "Ypred, Theta1, Theta2 = neuralNetwork(Xtrain, Ytrain, Xtest, vLambda)\n",
    "display(accuracy(Ypred, Ytest))"
   ]
  },
  {
   "cell_type": "code",
   "execution_count": null,
   "metadata": {},
   "outputs": [],
   "source": [
    "%run Methods/svmMethod.py\n",
    "%run accuracy.py\n",
    "\n",
    "kernel = 0\n",
    "cost = 4\n",
    "gamma = 1\n",
    "\n",
    "model, Ypred = svmUse(Xtrain, Ytrain, Xtest, Ytest, kernel, cost, gamma)\n",
    "acc = accuracy(Ypred, Ytest)\n",
    "print('cost:', cost, ' kernel:', kernel, ' gamma:', gamma, 'accuracy:', acc)"
   ]
  },
  {
   "cell_type": "code",
   "execution_count": null,
   "metadata": {},
   "outputs": [],
   "source": []
  }
 ],
 "metadata": {
  "kernelspec": {
   "display_name": "Python 3",
   "language": "python",
   "name": "python3"
  },
  "language_info": {
   "codemirror_mode": {
    "name": "ipython",
    "version": 3
   },
   "file_extension": ".py",
   "mimetype": "text/x-python",
   "name": "python",
   "nbconvert_exporter": "python",
   "pygments_lexer": "ipython3",
   "version": "3.6.6"
  }
 },
 "nbformat": 4,
 "nbformat_minor": 2
}
